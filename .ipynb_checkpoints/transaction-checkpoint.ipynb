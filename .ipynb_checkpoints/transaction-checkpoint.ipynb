{
 "cells": [
  {
   "cell_type": "code",
   "execution_count": 27,
   "metadata": {},
   "outputs": [],
   "source": [
    "import pandas as pd"
   ]
  },
  {
   "cell_type": "code",
   "execution_count": 28,
   "metadata": {
    "collapsed": true
   },
   "outputs": [],
   "source": [
    "import numpy as np"
   ]
  },
  {
   "cell_type": "code",
   "execution_count": 31,
   "metadata": {},
   "outputs": [
    {
     "name": "stdout",
     "output_type": "stream",
     "text": [
      "members_v2.csv.7z\t     transactions_v2.csv     user_logs.csv.7z\r\n",
      "sample_submission_v2.csv.7z  transactions_v2.csv.7z  user_logs_v2.csv.7z\r\n",
      "train_v2.csv.7z\t\t     Untitled.ipynb\r\n",
      "transactions.csv.7z\t     user_logs.csv\r\n"
     ]
    }
   ],
   "source": [
    "!ls"
   ]
  },
  {
   "cell_type": "code",
   "execution_count": null,
   "metadata": {
    "collapsed": true
   },
   "outputs": [],
   "source": []
  },
  {
   "cell_type": "code",
   "execution_count": 36,
   "metadata": {
    "collapsed": true
   },
   "outputs": [],
   "source": [
    "path = 'transactions.csv'"
   ]
  },
  {
   "cell_type": "code",
   "execution_count": 37,
   "metadata": {},
   "outputs": [
    {
     "data": {
      "text/plain": [
       "'transactions_v2.csv'"
      ]
     },
     "execution_count": 37,
     "metadata": {},
     "output_type": "execute_result"
    }
   ],
   "source": [
    "path"
   ]
  },
  {
   "cell_type": "code",
   "execution_count": 38,
   "metadata": {},
   "outputs": [],
   "source": [
    "f=pd.read_csv(path)"
   ]
  },
  {
   "cell_type": "code",
   "execution_count": 41,
   "metadata": {},
   "outputs": [
    {
     "data": {
      "text/html": [
       "<div>\n",
       "<style>\n",
       "    .dataframe thead tr:only-child th {\n",
       "        text-align: right;\n",
       "    }\n",
       "\n",
       "    .dataframe thead th {\n",
       "        text-align: left;\n",
       "    }\n",
       "\n",
       "    .dataframe tbody tr th {\n",
       "        vertical-align: top;\n",
       "    }\n",
       "</style>\n",
       "<table border=\"1\" class=\"dataframe\">\n",
       "  <thead>\n",
       "    <tr style=\"text-align: right;\">\n",
       "      <th></th>\n",
       "      <th>count</th>\n",
       "      <th>mean</th>\n",
       "      <th>std</th>\n",
       "      <th>min</th>\n",
       "      <th>25%</th>\n",
       "      <th>50%</th>\n",
       "      <th>75%</th>\n",
       "      <th>max</th>\n",
       "    </tr>\n",
       "  </thead>\n",
       "  <tbody>\n",
       "    <tr>\n",
       "      <th>payment_method_id</th>\n",
       "      <td>1431009.0</td>\n",
       "      <td>3.791835e+01</td>\n",
       "      <td>4.964805</td>\n",
       "      <td>2.0</td>\n",
       "      <td>36.0</td>\n",
       "      <td>40.0</td>\n",
       "      <td>41.0</td>\n",
       "      <td>41.0</td>\n",
       "    </tr>\n",
       "    <tr>\n",
       "      <th>payment_plan_days</th>\n",
       "      <td>1431009.0</td>\n",
       "      <td>6.601770e+01</td>\n",
       "      <td>102.486396</td>\n",
       "      <td>0.0</td>\n",
       "      <td>30.0</td>\n",
       "      <td>30.0</td>\n",
       "      <td>30.0</td>\n",
       "      <td>450.0</td>\n",
       "    </tr>\n",
       "    <tr>\n",
       "      <th>plan_list_price</th>\n",
       "      <td>1431009.0</td>\n",
       "      <td>2.817870e+02</td>\n",
       "      <td>435.186138</td>\n",
       "      <td>0.0</td>\n",
       "      <td>99.0</td>\n",
       "      <td>149.0</td>\n",
       "      <td>149.0</td>\n",
       "      <td>2000.0</td>\n",
       "    </tr>\n",
       "    <tr>\n",
       "      <th>actual_amount_paid</th>\n",
       "      <td>1431009.0</td>\n",
       "      <td>2.813172e+02</td>\n",
       "      <td>435.419950</td>\n",
       "      <td>0.0</td>\n",
       "      <td>99.0</td>\n",
       "      <td>149.0</td>\n",
       "      <td>149.0</td>\n",
       "      <td>2000.0</td>\n",
       "    </tr>\n",
       "    <tr>\n",
       "      <th>is_auto_renew</th>\n",
       "      <td>1431009.0</td>\n",
       "      <td>7.853025e-01</td>\n",
       "      <td>0.410612</td>\n",
       "      <td>0.0</td>\n",
       "      <td>1.0</td>\n",
       "      <td>1.0</td>\n",
       "      <td>1.0</td>\n",
       "      <td>1.0</td>\n",
       "    </tr>\n",
       "    <tr>\n",
       "      <th>transaction_date</th>\n",
       "      <td>1431009.0</td>\n",
       "      <td>2.016848e+07</td>\n",
       "      <td>4858.796622</td>\n",
       "      <td>20150101.0</td>\n",
       "      <td>20170228.0</td>\n",
       "      <td>20170311.0</td>\n",
       "      <td>20170323.0</td>\n",
       "      <td>20170331.0</td>\n",
       "    </tr>\n",
       "    <tr>\n",
       "      <th>membership_expire_date</th>\n",
       "      <td>1431009.0</td>\n",
       "      <td>2.017110e+07</td>\n",
       "      <td>3032.367275</td>\n",
       "      <td>20160419.0</td>\n",
       "      <td>20170410.0</td>\n",
       "      <td>20170421.0</td>\n",
       "      <td>20170501.0</td>\n",
       "      <td>20361015.0</td>\n",
       "    </tr>\n",
       "    <tr>\n",
       "      <th>is_cancel</th>\n",
       "      <td>1431009.0</td>\n",
       "      <td>2.455121e-02</td>\n",
       "      <td>0.154753</td>\n",
       "      <td>0.0</td>\n",
       "      <td>0.0</td>\n",
       "      <td>0.0</td>\n",
       "      <td>0.0</td>\n",
       "      <td>1.0</td>\n",
       "    </tr>\n",
       "  </tbody>\n",
       "</table>\n",
       "</div>"
      ],
      "text/plain": [
       "                            count          mean          std         min  \\\n",
       "payment_method_id       1431009.0  3.791835e+01     4.964805         2.0   \n",
       "payment_plan_days       1431009.0  6.601770e+01   102.486396         0.0   \n",
       "plan_list_price         1431009.0  2.817870e+02   435.186138         0.0   \n",
       "actual_amount_paid      1431009.0  2.813172e+02   435.419950         0.0   \n",
       "is_auto_renew           1431009.0  7.853025e-01     0.410612         0.0   \n",
       "transaction_date        1431009.0  2.016848e+07  4858.796622  20150101.0   \n",
       "membership_expire_date  1431009.0  2.017110e+07  3032.367275  20160419.0   \n",
       "is_cancel               1431009.0  2.455121e-02     0.154753         0.0   \n",
       "\n",
       "                               25%         50%         75%         max  \n",
       "payment_method_id             36.0        40.0        41.0        41.0  \n",
       "payment_plan_days             30.0        30.0        30.0       450.0  \n",
       "plan_list_price               99.0       149.0       149.0      2000.0  \n",
       "actual_amount_paid            99.0       149.0       149.0      2000.0  \n",
       "is_auto_renew                  1.0         1.0         1.0         1.0  \n",
       "transaction_date        20170228.0  20170311.0  20170323.0  20170331.0  \n",
       "membership_expire_date  20170410.0  20170421.0  20170501.0  20361015.0  \n",
       "is_cancel                      0.0         0.0         0.0         1.0  "
      ]
     },
     "execution_count": 41,
     "metadata": {},
     "output_type": "execute_result"
    }
   ],
   "source": [
    "f.describe().T"
   ]
  },
  {
   "cell_type": "code",
   "execution_count": 42,
   "metadata": {},
   "outputs": [
    {
     "data": {
      "text/plain": [
       "12879081"
      ]
     },
     "execution_count": 42,
     "metadata": {},
     "output_type": "execute_result"
    }
   ],
   "source": [
    "f.size"
   ]
  },
  {
   "cell_type": "code",
   "execution_count": null,
   "metadata": {
    "collapsed": true
   },
   "outputs": [],
   "source": []
  },
  {
   "cell_type": "code",
   "execution_count": null,
   "metadata": {
    "collapsed": true
   },
   "outputs": [],
   "source": []
  },
  {
   "cell_type": "code",
   "execution_count": 22,
   "metadata": {
    "collapsed": true
   },
   "outputs": [
    {
     "name": "stdout",
     "output_type": "stream",
     "text": [
      "1\n",
      "2\n",
      "3\n",
      "4\n",
      "5\n",
      "6\n",
      "7\n",
      "8\n",
      "9\n",
      "10\n",
      "11\n",
      "12\n",
      "13\n",
      "14\n",
      "15\n",
      "16\n",
      "17\n",
      "18\n",
      "19\n",
      "20\n",
      "21\n",
      "22\n",
      "23\n",
      "24\n",
      "25\n",
      "26\n",
      "27\n",
      "28\n",
      "29\n",
      "30\n",
      "31\n",
      "32\n",
      "33\n",
      "34\n",
      "35\n",
      "36\n",
      "37\n",
      "38\n",
      "39\n",
      "40\n",
      "41\n",
      "42\n",
      "43\n",
      "44\n",
      "45\n",
      "46\n",
      "47\n",
      "48\n",
      "49\n"
     ]
    }
   ],
   "source": [
    "for i in range(1,50) :\n",
    "    print (i)\n",
    "    "
   ]
  },
  {
   "cell_type": "code",
   "execution_count": 16,
   "metadata": {},
   "outputs": [],
   "source": [
    "list=[]"
   ]
  },
  {
   "cell_type": "code",
   "execution_count": 23,
   "metadata": {},
   "outputs": [],
   "source": [
    "for line in range(100) :\n",
    "    list.append(f.readline) "
   ]
  },
  {
   "cell_type": "code",
   "execution_count": 24,
   "metadata": {},
   "outputs": [
    {
     "data": {
      "text/plain": [
       "[<function TextIOWrapper.readline>,\n",
       " <function TextIOWrapper.readline>,\n",
       " <function TextIOWrapper.readline>,\n",
       " <function TextIOWrapper.readline>,\n",
       " <function TextIOWrapper.readline>,\n",
       " <function TextIOWrapper.readline>,\n",
       " <function TextIOWrapper.readline>,\n",
       " <function TextIOWrapper.readline>,\n",
       " <function TextIOWrapper.readline>,\n",
       " <function TextIOWrapper.readline>,\n",
       " <function TextIOWrapper.readline>,\n",
       " <function TextIOWrapper.readline>,\n",
       " <function TextIOWrapper.readline>,\n",
       " <function TextIOWrapper.readline>,\n",
       " <function TextIOWrapper.readline>,\n",
       " <function TextIOWrapper.readline>,\n",
       " <function TextIOWrapper.readline>,\n",
       " <function TextIOWrapper.readline>,\n",
       " <function TextIOWrapper.readline>,\n",
       " <function TextIOWrapper.readline>,\n",
       " <function TextIOWrapper.readline>,\n",
       " <function TextIOWrapper.readline>,\n",
       " <function TextIOWrapper.readline>,\n",
       " <function TextIOWrapper.readline>,\n",
       " <function TextIOWrapper.readline>,\n",
       " <function TextIOWrapper.readline>,\n",
       " <function TextIOWrapper.readline>,\n",
       " <function TextIOWrapper.readline>,\n",
       " <function TextIOWrapper.readline>,\n",
       " <function TextIOWrapper.readline>,\n",
       " <function TextIOWrapper.readline>,\n",
       " <function TextIOWrapper.readline>,\n",
       " <function TextIOWrapper.readline>,\n",
       " <function TextIOWrapper.readline>,\n",
       " <function TextIOWrapper.readline>,\n",
       " <function TextIOWrapper.readline>,\n",
       " <function TextIOWrapper.readline>,\n",
       " <function TextIOWrapper.readline>,\n",
       " <function TextIOWrapper.readline>,\n",
       " <function TextIOWrapper.readline>,\n",
       " <function TextIOWrapper.readline>,\n",
       " <function TextIOWrapper.readline>,\n",
       " <function TextIOWrapper.readline>,\n",
       " <function TextIOWrapper.readline>,\n",
       " <function TextIOWrapper.readline>,\n",
       " <function TextIOWrapper.readline>,\n",
       " <function TextIOWrapper.readline>,\n",
       " <function TextIOWrapper.readline>,\n",
       " <function TextIOWrapper.readline>,\n",
       " <function TextIOWrapper.readline>,\n",
       " <function TextIOWrapper.readline>,\n",
       " <function TextIOWrapper.readline>,\n",
       " <function TextIOWrapper.readline>,\n",
       " <function TextIOWrapper.readline>,\n",
       " <function TextIOWrapper.readline>,\n",
       " <function TextIOWrapper.readline>,\n",
       " <function TextIOWrapper.readline>,\n",
       " <function TextIOWrapper.readline>,\n",
       " <function TextIOWrapper.readline>,\n",
       " <function TextIOWrapper.readline>,\n",
       " <function TextIOWrapper.readline>,\n",
       " <function TextIOWrapper.readline>,\n",
       " <function TextIOWrapper.readline>,\n",
       " <function TextIOWrapper.readline>,\n",
       " <function TextIOWrapper.readline>,\n",
       " <function TextIOWrapper.readline>,\n",
       " <function TextIOWrapper.readline>,\n",
       " <function TextIOWrapper.readline>,\n",
       " <function TextIOWrapper.readline>,\n",
       " <function TextIOWrapper.readline>,\n",
       " <function TextIOWrapper.readline>,\n",
       " <function TextIOWrapper.readline>,\n",
       " <function TextIOWrapper.readline>,\n",
       " <function TextIOWrapper.readline>,\n",
       " <function TextIOWrapper.readline>,\n",
       " <function TextIOWrapper.readline>,\n",
       " <function TextIOWrapper.readline>,\n",
       " <function TextIOWrapper.readline>,\n",
       " <function TextIOWrapper.readline>,\n",
       " <function TextIOWrapper.readline>,\n",
       " <function TextIOWrapper.readline>,\n",
       " <function TextIOWrapper.readline>,\n",
       " <function TextIOWrapper.readline>,\n",
       " <function TextIOWrapper.readline>,\n",
       " <function TextIOWrapper.readline>,\n",
       " <function TextIOWrapper.readline>,\n",
       " <function TextIOWrapper.readline>,\n",
       " <function TextIOWrapper.readline>,\n",
       " <function TextIOWrapper.readline>,\n",
       " <function TextIOWrapper.readline>,\n",
       " <function TextIOWrapper.readline>,\n",
       " <function TextIOWrapper.readline>,\n",
       " <function TextIOWrapper.readline>,\n",
       " <function TextIOWrapper.readline>,\n",
       " <function TextIOWrapper.readline>,\n",
       " <function TextIOWrapper.readline>,\n",
       " <function TextIOWrapper.readline>,\n",
       " <function TextIOWrapper.readline>,\n",
       " <function TextIOWrapper.readline>,\n",
       " <function TextIOWrapper.readline>]"
      ]
     },
     "execution_count": 24,
     "metadata": {},
     "output_type": "execute_result"
    }
   ],
   "source": [
    "list"
   ]
  },
  {
   "cell_type": "code",
   "execution_count": null,
   "metadata": {
    "collapsed": true
   },
   "outputs": [],
   "source": []
  }
 ],
 "metadata": {
  "kernelspec": {
   "display_name": "Python 3",
   "language": "python",
   "name": "python3"
  },
  "language_info": {
   "codemirror_mode": {
    "name": "ipython",
    "version": 3
   },
   "file_extension": ".py",
   "mimetype": "text/x-python",
   "name": "python",
   "nbconvert_exporter": "python",
   "pygments_lexer": "ipython3",
   "version": "3.6.3"
  }
 },
 "nbformat": 4,
 "nbformat_minor": 2
}
